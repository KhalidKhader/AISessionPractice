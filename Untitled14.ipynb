{
  "nbformat": 4,
  "nbformat_minor": 0,
  "metadata": {
    "colab": {
      "provenance": [],
      "authorship_tag": "ABX9TyM734Oqx5umyvuyEzzHjQsv",
      "include_colab_link": true
    },
    "kernelspec": {
      "name": "python3",
      "display_name": "Python 3"
    },
    "language_info": {
      "name": "python"
    }
  },
  "cells": [
    {
      "cell_type": "markdown",
      "metadata": {
        "id": "view-in-github",
        "colab_type": "text"
      },
      "source": [
        "<a href=\"https://colab.research.google.com/github/KhalidKhader/AISessionPractice/blob/master/Untitled14.ipynb\" target=\"_parent\"><img src=\"https://colab.research.google.com/assets/colab-badge.svg\" alt=\"Open In Colab\"/></a>"
      ]
    },
    {
      "cell_type": "markdown",
      "source": [
        "# Project Title: (Prediction of Product Sales)"
      ],
      "metadata": {
        "id": "DkrWm-VtpI2B"
      }
    },
    {
      "cell_type": "code",
      "source": [],
      "metadata": {
        "id": "UZ6xpOOopPut"
      },
      "execution_count": null,
      "outputs": []
    },
    {
      "cell_type": "markdown",
      "source": [
        "## \"Project Overview\"\n"
      ],
      "metadata": {
        "id": "niFgXNdCpI4H"
      }
    },
    {
      "cell_type": "code",
      "source": [],
      "metadata": {
        "id": "Y-vNclb1pR6n"
      },
      "execution_count": null,
      "outputs": []
    },
    {
      "cell_type": "markdown",
      "source": [
        "## \"Load and Inspect Data\"\n"
      ],
      "metadata": {
        "id": "ZFqnMIYxpI6E"
      }
    },
    {
      "cell_type": "code",
      "source": [],
      "metadata": {
        "id": "NujQwk4SpVBj"
      },
      "execution_count": null,
      "outputs": []
    },
    {
      "cell_type": "markdown",
      "source": [
        "## \"Clean Data\""
      ],
      "metadata": {
        "id": "DwuhWD6OpI8k"
      }
    },
    {
      "cell_type": "code",
      "source": [],
      "metadata": {
        "id": "_OV5pvhcpX3D"
      },
      "execution_count": null,
      "outputs": []
    },
    {
      "cell_type": "markdown",
      "source": [
        "\n",
        "## \"Exploratory Data Analysis\"\n",
        "\n"
      ],
      "metadata": {
        "id": "ufTngpU8pI99"
      }
    },
    {
      "cell_type": "code",
      "source": [],
      "metadata": {
        "id": "0kkjtROZpZ1b"
      },
      "execution_count": null,
      "outputs": []
    },
    {
      "cell_type": "markdown",
      "source": [
        "## \"Feature Inspection\""
      ],
      "metadata": {
        "id": "Z64D8Sz-pI_-"
      }
    },
    {
      "cell_type": "code",
      "source": [],
      "metadata": {
        "id": "0nZFhM4LpbLi"
      },
      "execution_count": null,
      "outputs": []
    }
  ]
}